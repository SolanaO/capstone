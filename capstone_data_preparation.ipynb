{
 "cells": [
  {
   "cell_type": "markdown",
   "metadata": {},
   "source": [
    "# Import necessary dependencies"
   ]
  },
  {
   "cell_type": "code",
   "execution_count": 1,
   "metadata": {
    "collapsed": true
   },
   "outputs": [],
   "source": [
    "## import necessary packages\n",
    "import numpy as np\n",
    "import pandas as pd\n",
    "\n",
    "## visualizations packages\n",
    "import matplotlib.pyplot as plt\n",
    "\n",
    "import seaborn as sns\n",
    "sns.set_style('darkgrid')\n",
    "\n",
    "## the magic word for inline visualizations in Jupyter notebook\n",
    "% matplotlib inline\n",
    "\n",
    "## import module to process regular expressions\n",
    "import re\n",
    "\n",
    "## package to upload and find the stopwords\n",
    "from nltk.corpus import stopwords\n",
    "\n",
    "## the list of stopwords to be used\n",
    "stop = stopwords.words('english')"
   ]
  },
  {
   "cell_type": "markdown",
   "metadata": {},
   "source": [
    "# Download and Inspect the Raw Data"
   ]
  },
  {
   "cell_type": "code",
   "execution_count": 2,
   "metadata": {
    "collapsed": true
   },
   "outputs": [],
   "source": [
    "## read data from the cvs file and save it as a Pandas dataframe \n",
    "umobile = pd.read_csv(\"Amazon_Unlocked_Mobile.csv\") "
   ]
  },
  {
   "cell_type": "code",
   "execution_count": 3,
   "metadata": {
    "collapsed": true
   },
   "outputs": [],
   "source": [
    "## option to display full content of columns in the dataframes\n",
    "pd.set_option('display.max_colwidth', -1)"
   ]
  },
  {
   "cell_type": "code",
   "execution_count": 4,
   "metadata": {},
   "outputs": [
    {
     "data": {
      "text/html": [
       "<div>\n",
       "<style scoped>\n",
       "    .dataframe tbody tr th:only-of-type {\n",
       "        vertical-align: middle;\n",
       "    }\n",
       "\n",
       "    .dataframe tbody tr th {\n",
       "        vertical-align: top;\n",
       "    }\n",
       "\n",
       "    .dataframe thead th {\n",
       "        text-align: right;\n",
       "    }\n",
       "</style>\n",
       "<table border=\"1\" class=\"dataframe\">\n",
       "  <thead>\n",
       "    <tr style=\"text-align: right;\">\n",
       "      <th></th>\n",
       "      <th>Product Name</th>\n",
       "      <th>Brand Name</th>\n",
       "      <th>Price</th>\n",
       "      <th>Rating</th>\n",
       "      <th>Reviews</th>\n",
       "      <th>Review Votes</th>\n",
       "    </tr>\n",
       "  </thead>\n",
       "  <tbody>\n",
       "    <tr>\n",
       "      <th>297333</th>\n",
       "      <td>POSH MOBILE MICRO X, The Smallest Smartphone in the World, ANDROID UNLOCKED 2.4\" GSM SMARTPHONE with 2MP Camera and 4GB of Storage. 1 Year warranty. (MODEL#: S240 PINK)</td>\n",
       "      <td>Posh Mobile</td>\n",
       "      <td>49.91</td>\n",
       "      <td>5</td>\n",
       "      <td>This is a really good phone for the price</td>\n",
       "      <td>0.0</td>\n",
       "    </tr>\n",
       "    <tr>\n",
       "      <th>261604</th>\n",
       "      <td>Nokia 6300 Unlocked Triband Camera Business Phone</td>\n",
       "      <td>NaN</td>\n",
       "      <td>269.10</td>\n",
       "      <td>5</td>\n",
       "      <td>Good phone and received on time. It is durable, looks prety, I recommend to any one who needs the basic phone.</td>\n",
       "      <td>0.0</td>\n",
       "    </tr>\n",
       "  </tbody>\n",
       "</table>\n",
       "</div>"
      ],
      "text/plain": [
       "                                                                                                                                                                    Product Name  \\\n",
       "297333  POSH MOBILE MICRO X, The Smallest Smartphone in the World, ANDROID UNLOCKED 2.4\" GSM SMARTPHONE with 2MP Camera and 4GB of Storage. 1 Year warranty. (MODEL#: S240 PINK)   \n",
       "261604  Nokia 6300 Unlocked Triband Camera Business Phone                                                                                                                          \n",
       "\n",
       "         Brand Name   Price  Rating  \\\n",
       "297333  Posh Mobile  49.91   5        \n",
       "261604  NaN          269.10  5        \n",
       "\n",
       "                                                                                                               Reviews  \\\n",
       "297333  This is a really good phone for the price                                                                        \n",
       "261604  Good phone and received on time. It is durable, looks prety, I recommend to any one who needs the basic phone.   \n",
       "\n",
       "        Review Votes  \n",
       "297333  0.0           \n",
       "261604  0.0           "
      ]
     },
     "execution_count": 4,
     "metadata": {},
     "output_type": "execute_result"
    }
   ],
   "source": [
    "## preview several lines of the loaded data \n",
    "umobile.sample(2)"
   ]
  },
  {
   "cell_type": "code",
   "execution_count": 5,
   "metadata": {
    "scrolled": true
   },
   "outputs": [
    {
     "name": "stdout",
     "output_type": "stream",
     "text": [
      "<class 'pandas.core.frame.DataFrame'>\n",
      "RangeIndex: 413840 entries, 0 to 413839\n",
      "Data columns (total 6 columns):\n",
      "Product Name    413840 non-null object\n",
      "Brand Name      348669 non-null object\n",
      "Price           407907 non-null float64\n",
      "Rating          413840 non-null int64\n",
      "Reviews         413778 non-null object\n",
      "Review Votes    401544 non-null float64\n",
      "dtypes: float64(2), int64(1), object(3)\n",
      "memory usage: 18.9+ MB\n"
     ]
    }
   ],
   "source": [
    "## concise summary of the dataframe\n",
    "umobile.info()"
   ]
  },
  {
   "cell_type": "code",
   "execution_count": 6,
   "metadata": {
    "collapsed": true
   },
   "outputs": [],
   "source": [
    "## option to limit the display of the columns in the dataframe\n",
    "pd.set_option('display.max_colwidth', 16)"
   ]
  },
  {
   "cell_type": "code",
   "execution_count": 7,
   "metadata": {},
   "outputs": [
    {
     "data": {
      "text/html": [
       "<div>\n",
       "<style scoped>\n",
       "    .dataframe tbody tr th:only-of-type {\n",
       "        vertical-align: middle;\n",
       "    }\n",
       "\n",
       "    .dataframe tbody tr th {\n",
       "        vertical-align: top;\n",
       "    }\n",
       "\n",
       "    .dataframe thead th {\n",
       "        text-align: right;\n",
       "    }\n",
       "</style>\n",
       "<table border=\"1\" class=\"dataframe\">\n",
       "  <thead>\n",
       "    <tr style=\"text-align: right;\">\n",
       "      <th></th>\n",
       "      <th>Product Name</th>\n",
       "      <th>Brand Name</th>\n",
       "      <th>Price</th>\n",
       "      <th>Rating</th>\n",
       "      <th>Reviews</th>\n",
       "      <th>Review Votes</th>\n",
       "    </tr>\n",
       "  </thead>\n",
       "  <tbody>\n",
       "    <tr>\n",
       "      <th>count</th>\n",
       "      <td>413840</td>\n",
       "      <td>348669</td>\n",
       "      <td>407907.00</td>\n",
       "      <td>413840.00</td>\n",
       "      <td>413778</td>\n",
       "      <td>401544.00</td>\n",
       "    </tr>\n",
       "    <tr>\n",
       "      <th>unique</th>\n",
       "      <td>4410</td>\n",
       "      <td>384</td>\n",
       "      <td>NaN</td>\n",
       "      <td>NaN</td>\n",
       "      <td>162491</td>\n",
       "      <td>NaN</td>\n",
       "    </tr>\n",
       "    <tr>\n",
       "      <th>top</th>\n",
       "      <td>Apple iPhone...</td>\n",
       "      <td>Samsung</td>\n",
       "      <td>NaN</td>\n",
       "      <td>NaN</td>\n",
       "      <td>Good</td>\n",
       "      <td>NaN</td>\n",
       "    </tr>\n",
       "    <tr>\n",
       "      <th>freq</th>\n",
       "      <td>1451</td>\n",
       "      <td>65747</td>\n",
       "      <td>NaN</td>\n",
       "      <td>NaN</td>\n",
       "      <td>2879</td>\n",
       "      <td>NaN</td>\n",
       "    </tr>\n",
       "    <tr>\n",
       "      <th>mean</th>\n",
       "      <td>NaN</td>\n",
       "      <td>NaN</td>\n",
       "      <td>226.87</td>\n",
       "      <td>3.82</td>\n",
       "      <td>NaN</td>\n",
       "      <td>1.51</td>\n",
       "    </tr>\n",
       "    <tr>\n",
       "      <th>std</th>\n",
       "      <td>NaN</td>\n",
       "      <td>NaN</td>\n",
       "      <td>273.01</td>\n",
       "      <td>1.55</td>\n",
       "      <td>NaN</td>\n",
       "      <td>9.16</td>\n",
       "    </tr>\n",
       "    <tr>\n",
       "      <th>min</th>\n",
       "      <td>NaN</td>\n",
       "      <td>NaN</td>\n",
       "      <td>1.73</td>\n",
       "      <td>1.00</td>\n",
       "      <td>NaN</td>\n",
       "      <td>0.00</td>\n",
       "    </tr>\n",
       "    <tr>\n",
       "      <th>25%</th>\n",
       "      <td>NaN</td>\n",
       "      <td>NaN</td>\n",
       "      <td>79.99</td>\n",
       "      <td>3.00</td>\n",
       "      <td>NaN</td>\n",
       "      <td>0.00</td>\n",
       "    </tr>\n",
       "    <tr>\n",
       "      <th>50%</th>\n",
       "      <td>NaN</td>\n",
       "      <td>NaN</td>\n",
       "      <td>144.71</td>\n",
       "      <td>5.00</td>\n",
       "      <td>NaN</td>\n",
       "      <td>0.00</td>\n",
       "    </tr>\n",
       "    <tr>\n",
       "      <th>75%</th>\n",
       "      <td>NaN</td>\n",
       "      <td>NaN</td>\n",
       "      <td>269.99</td>\n",
       "      <td>5.00</td>\n",
       "      <td>NaN</td>\n",
       "      <td>1.00</td>\n",
       "    </tr>\n",
       "    <tr>\n",
       "      <th>max</th>\n",
       "      <td>NaN</td>\n",
       "      <td>NaN</td>\n",
       "      <td>2598.00</td>\n",
       "      <td>5.00</td>\n",
       "      <td>NaN</td>\n",
       "      <td>645.00</td>\n",
       "    </tr>\n",
       "  </tbody>\n",
       "</table>\n",
       "</div>"
      ],
      "text/plain": [
       "           Product Name Brand Name      Price     Rating Reviews  Review Votes\n",
       "count            413840     348669  407907.00  413840.00  413778     401544.00\n",
       "unique             4410        384        NaN        NaN  162491           NaN\n",
       "top     Apple iPhone...    Samsung        NaN        NaN    Good           NaN\n",
       "freq               1451      65747        NaN        NaN    2879           NaN\n",
       "mean                NaN        NaN     226.87       3.82     NaN          1.51\n",
       "std                 NaN        NaN     273.01       1.55     NaN          9.16\n",
       "min                 NaN        NaN       1.73       1.00     NaN          0.00\n",
       "25%                 NaN        NaN      79.99       3.00     NaN          0.00\n",
       "50%                 NaN        NaN     144.71       5.00     NaN          0.00\n",
       "75%                 NaN        NaN     269.99       5.00     NaN          1.00\n",
       "max                 NaN        NaN    2598.00       5.00     NaN        645.00"
      ]
     },
     "execution_count": 7,
     "metadata": {},
     "output_type": "execute_result"
    }
   ],
   "source": [
    "## descriptive statistics that summarize the central tendency, dispersion and shape of the distribution\n",
    "round(umobile.describe(include='all'),2)"
   ]
  },
  {
   "cell_type": "code",
   "execution_count": 8,
   "metadata": {},
   "outputs": [
    {
     "data": {
      "text/plain": [
       "Product Name      4410\n",
       "Brand Name         384\n",
       "Price             1754\n",
       "Rating               5\n",
       "Reviews         162491\n",
       "Review Votes       241\n",
       "dtype: int64"
      ]
     },
     "execution_count": 8,
     "metadata": {},
     "output_type": "execute_result"
    }
   ],
   "source": [
    "## the number of unique values in each column\n",
    "umobile.nunique()"
   ]
  },
  {
   "cell_type": "code",
   "execution_count": 9,
   "metadata": {},
   "outputs": [
    {
     "data": {
      "text/plain": [
       "Product Name        0\n",
       "Brand Name      65171\n",
       "Price            5933\n",
       "Rating              0\n",
       "Reviews            62\n",
       "Review Votes    12296\n",
       "dtype: int64"
      ]
     },
     "execution_count": 9,
     "metadata": {},
     "output_type": "execute_result"
    }
   ],
   "source": [
    "## the number of missing values in each column\n",
    "umobile.isnull().sum()"
   ]
  },
  {
   "cell_type": "code",
   "execution_count": 10,
   "metadata": {},
   "outputs": [
    {
     "data": {
      "text/plain": [
       "Product Name    413840\n",
       "Brand Name      413840\n",
       "Price           413840\n",
       "Rating          413840\n",
       "Reviews         413840\n",
       "Review Votes    135397\n",
       "dtype: int64"
      ]
     },
     "execution_count": 10,
     "metadata": {},
     "output_type": "execute_result"
    }
   ],
   "source": [
    "## the number of non-zero values in each column\n",
    "umobile.astype(bool).sum(axis=0)"
   ]
  },
  {
   "cell_type": "code",
   "execution_count": 11,
   "metadata": {},
   "outputs": [
    {
     "data": {
      "text/plain": [
       "Rating\n",
       "1     72350\n",
       "2     24728\n",
       "3     31765\n",
       "4     61392\n",
       "5    223605\n",
       "dtype: int64"
      ]
     },
     "execution_count": 11,
     "metadata": {},
     "output_type": "execute_result"
    }
   ],
   "source": [
    "## the distribution of the data based on ranking\n",
    "umobile.groupby('Rating').size()"
   ]
  },
  {
   "cell_type": "markdown",
   "metadata": {},
   "source": [
    "# Preliminary cleaning of the data"
   ]
  },
  {
   "cell_type": "markdown",
   "metadata": {},
   "source": [
    "### Rename the columns"
   ]
  },
  {
   "cell_type": "code",
   "execution_count": 12,
   "metadata": {
    "collapsed": true
   },
   "outputs": [],
   "source": [
    "## rename the columns\n",
    "umobile = umobile.rename(columns=\n",
    "                    {'Product Name':'name','Brand Name': 'brand','Price':'price',\n",
    "                    'Rating':'rating', 'Reviews':'review', 'Review Votes':'votes' })"
   ]
  },
  {
   "cell_type": "code",
   "execution_count": 13,
   "metadata": {},
   "outputs": [
    {
     "data": {
      "text/html": [
       "<div>\n",
       "<style scoped>\n",
       "    .dataframe tbody tr th:only-of-type {\n",
       "        vertical-align: middle;\n",
       "    }\n",
       "\n",
       "    .dataframe tbody tr th {\n",
       "        vertical-align: top;\n",
       "    }\n",
       "\n",
       "    .dataframe thead th {\n",
       "        text-align: right;\n",
       "    }\n",
       "</style>\n",
       "<table border=\"1\" class=\"dataframe\">\n",
       "  <thead>\n",
       "    <tr style=\"text-align: right;\">\n",
       "      <th></th>\n",
       "      <th>name</th>\n",
       "      <th>brand</th>\n",
       "      <th>price</th>\n",
       "      <th>rating</th>\n",
       "      <th>review</th>\n",
       "      <th>votes</th>\n",
       "    </tr>\n",
       "  </thead>\n",
       "  <tbody>\n",
       "    <tr>\n",
       "      <th>0</th>\n",
       "      <td>\"CLEAR CLEAN...</td>\n",
       "      <td>Samsung</td>\n",
       "      <td>199.99</td>\n",
       "      <td>5</td>\n",
       "      <td>I feel so LU...</td>\n",
       "      <td>1.0</td>\n",
       "    </tr>\n",
       "    <tr>\n",
       "      <th>1</th>\n",
       "      <td>\"CLEAR CLEAN...</td>\n",
       "      <td>Samsung</td>\n",
       "      <td>199.99</td>\n",
       "      <td>4</td>\n",
       "      <td>nice phone, ...</td>\n",
       "      <td>0.0</td>\n",
       "    </tr>\n",
       "    <tr>\n",
       "      <th>2</th>\n",
       "      <td>\"CLEAR CLEAN...</td>\n",
       "      <td>Samsung</td>\n",
       "      <td>199.99</td>\n",
       "      <td>5</td>\n",
       "      <td>Very pleased</td>\n",
       "      <td>0.0</td>\n",
       "    </tr>\n",
       "    <tr>\n",
       "      <th>3</th>\n",
       "      <td>\"CLEAR CLEAN...</td>\n",
       "      <td>Samsung</td>\n",
       "      <td>199.99</td>\n",
       "      <td>4</td>\n",
       "      <td>It works goo...</td>\n",
       "      <td>0.0</td>\n",
       "    </tr>\n",
       "    <tr>\n",
       "      <th>4</th>\n",
       "      <td>\"CLEAR CLEAN...</td>\n",
       "      <td>Samsung</td>\n",
       "      <td>199.99</td>\n",
       "      <td>4</td>\n",
       "      <td>Great phone ...</td>\n",
       "      <td>0.0</td>\n",
       "    </tr>\n",
       "  </tbody>\n",
       "</table>\n",
       "</div>"
      ],
      "text/plain": [
       "              name    brand   price  rating           review  votes\n",
       "0  \"CLEAR CLEAN...  Samsung  199.99       5  I feel so LU...    1.0\n",
       "1  \"CLEAR CLEAN...  Samsung  199.99       4  nice phone, ...    0.0\n",
       "2  \"CLEAR CLEAN...  Samsung  199.99       5     Very pleased    0.0\n",
       "3  \"CLEAR CLEAN...  Samsung  199.99       4  It works goo...    0.0\n",
       "4  \"CLEAR CLEAN...  Samsung  199.99       4  Great phone ...    0.0"
      ]
     },
     "execution_count": 13,
     "metadata": {},
     "output_type": "execute_result"
    }
   ],
   "source": [
    "## check for success\n",
    "umobile.head()"
   ]
  },
  {
   "cell_type": "markdown",
   "metadata": {},
   "source": [
    "### Change some column types "
   ]
  },
  {
   "cell_type": "code",
   "execution_count": 14,
   "metadata": {
    "scrolled": true
   },
   "outputs": [
    {
     "name": "stdout",
     "output_type": "stream",
     "text": [
      "<class 'pandas.core.frame.DataFrame'>\n",
      "RangeIndex: 413840 entries, 0 to 413839\n",
      "Data columns (total 6 columns):\n",
      "name      413840 non-null object\n",
      "brand     348669 non-null object\n",
      "price     407907 non-null float64\n",
      "rating    413840 non-null category\n",
      "review    413778 non-null object\n",
      "votes     413840 non-null int64\n",
      "dtypes: category(1), float64(1), int64(1), object(3)\n",
      "memory usage: 16.2+ MB\n"
     ]
    }
   ],
   "source": [
    "## change the type of 'rating' to categorical\n",
    "umobile.rating = umobile.rating.astype('category') \n",
    "\n",
    "## change the type of 'votes' to integer, after filling the missing values with 0\n",
    "umobile.votes = umobile.votes.fillna(0).astype(float)\n",
    "umobile.votes = umobile.votes.astype(np.int64)\n",
    "\n",
    "### rewrite the 'price' entries as float with 2 decimals only\n",
    "umobile.price = umobile.price.round(2)\n",
    "\n",
    "## check for success\n",
    "umobile.info()"
   ]
  },
  {
   "cell_type": "markdown",
   "metadata": {},
   "source": [
    "### Basic cleaning of product names"
   ]
  },
  {
   "cell_type": "markdown",
   "metadata": {},
   "source": [
    "Numerous entries in the Product Name column refer to other types of products, not necessarily phones, such as phone cases, services or smart watches. I remove some of these entries using several basic steps. "
   ]
  },
  {
   "cell_type": "code",
   "execution_count": 15,
   "metadata": {},
   "outputs": [
    {
     "data": {
      "text/plain": [
       "7821"
      ]
     },
     "execution_count": 15,
     "metadata": {},
     "output_type": "execute_result"
    }
   ],
   "source": [
    "## look for those strings in product name that do not contain any of the words 'phone', 'unlocked' or 'mobile'\n",
    "## use lower case representation and record their indices in a list\n",
    "## many Samsung phones description do not contain any of the above words so I include samsung in the above list\n",
    "\n",
    "lst1=[]\n",
    "for i in range(len(umobile)):\n",
    "    if re.findall(r\"\\Bone|\\Bnlocked|\\Bobile|samsung\",umobile.name[i].lower()) ==[]:\n",
    "        lst1.append(i)\n",
    "len(lst1)"
   ]
  },
  {
   "cell_type": "code",
   "execution_count": 16,
   "metadata": {},
   "outputs": [
    {
     "data": {
      "text/plain": [
       "3122"
      ]
     },
     "execution_count": 16,
     "metadata": {},
     "output_type": "execute_result"
    }
   ],
   "source": [
    "## determine if the product name in lst1 does not contains strings of the form *G or GSM\n",
    "\n",
    "lst2=[]\n",
    "for i in lst1:\n",
    "    if re.findall(r\"\\BG|GSM\",umobile.name[i]) ==[]:\n",
    "        lst2.append(i)\n",
    "len(lst2)"
   ]
  },
  {
   "cell_type": "code",
   "execution_count": 17,
   "metadata": {
    "collapsed": true
   },
   "outputs": [],
   "source": [
    "## make a copy of the dataframe\n",
    "df = umobile.copy()"
   ]
  },
  {
   "cell_type": "code",
   "execution_count": 18,
   "metadata": {},
   "outputs": [
    {
     "name": "stdout",
     "output_type": "stream",
     "text": [
      "<class 'pandas.core.frame.DataFrame'>\n",
      "Int64Index: 410718 entries, 0 to 413839\n",
      "Data columns (total 6 columns):\n",
      "name      410718 non-null object\n",
      "brand     347204 non-null object\n",
      "price     404968 non-null float64\n",
      "rating    410718 non-null category\n",
      "review    410660 non-null object\n",
      "votes     410718 non-null int64\n",
      "dtypes: category(1), float64(1), int64(1), object(3)\n",
      "memory usage: 19.2+ MB\n"
     ]
    }
   ],
   "source": [
    "## remove all the entries whose indices are in lst2\n",
    "df = df.drop(df.index[lst2])\n",
    "\n",
    "## check for success\n",
    "df.info()"
   ]
  },
  {
   "cell_type": "markdown",
   "metadata": {},
   "source": [
    "### Basic cleaning of the brand names"
   ]
  },
  {
   "cell_type": "code",
   "execution_count": 19,
   "metadata": {},
   "outputs": [
    {
     "data": {
      "text/plain": [
       "['alcatel', 'kingzone', 'blackphone', 'sole mobile', 'asus']"
      ]
     },
     "execution_count": 19,
     "metadata": {},
     "output_type": "execute_result"
    }
   ],
   "source": [
    "## a second look at the brand list, lower case all brand names\n",
    "df.brand=df.brand.str.lower()\n",
    "\n",
    "## write brand names as a list with nonrepeated entries\n",
    "brand_list = list(set(df.brand))\n",
    "brand_list[10:15]"
   ]
  },
  {
   "cell_type": "code",
   "execution_count": 20,
   "metadata": {},
   "outputs": [
    {
     "data": {
      "text/plain": [
       "['lightinthebox',\n",
       " 'moxee technologies',\n",
       " 'concox',\n",
       " 'otterbox',\n",
       " 'ultrabox',\n",
       " 'powermoxie']"
      ]
     },
     "execution_count": 20,
     "metadata": {},
     "output_type": "execute_result"
    }
   ],
   "source": [
    "## find those brands that refer to cases and other accesories\n",
    "## most of them contain some version of the word box\n",
    "\n",
    "boxes=[]\n",
    "for i in range(1, len(brand_list)):\n",
    "    if re.findall(r\"\\Box\", brand_list[i]) != []:\n",
    "        boxes.append(brand_list[i])\n",
    "boxes"
   ]
  },
  {
   "cell_type": "code",
   "execution_count": 21,
   "metadata": {},
   "outputs": [
    {
     "name": "stdout",
     "output_type": "stream",
     "text": [
      "<class 'pandas.core.frame.DataFrame'>\n",
      "Int64Index: 401827 entries, 0 to 413839\n",
      "Data columns (total 6 columns):\n",
      "name      401827 non-null object\n",
      "brand     338313 non-null object\n",
      "price     396077 non-null float64\n",
      "rating    401827 non-null category\n",
      "review    401771 non-null object\n",
      "votes     401827 non-null int64\n",
      "dtypes: category(1), float64(1), int64(1), object(3)\n",
      "memory usage: 18.8+ MB\n"
     ]
    }
   ],
   "source": [
    "## remove the entries corresponding to the brands listed in boxes\n",
    "df = df[~df.brand.isin(boxes)]\n",
    "\n",
    "## check for success\n",
    "df.info()"
   ]
  },
  {
   "cell_type": "markdown",
   "metadata": {},
   "source": [
    "### Remove the entries with no reviews"
   ]
  },
  {
   "cell_type": "code",
   "execution_count": 22,
   "metadata": {
    "collapsed": true
   },
   "outputs": [],
   "source": [
    "## remove those entries that have empty reviews\n",
    "df=df.dropna(subset=['review'])"
   ]
  },
  {
   "cell_type": "code",
   "execution_count": 23,
   "metadata": {},
   "outputs": [
    {
     "data": {
      "text/plain": [
       "name          0\n",
       "brand     63501\n",
       "price      5747\n",
       "rating        0\n",
       "review        0\n",
       "votes         0\n",
       "dtype: int64"
      ]
     },
     "execution_count": 23,
     "metadata": {},
     "output_type": "execute_result"
    }
   ],
   "source": [
    "## check for success\n",
    "df.isnull().sum()"
   ]
  },
  {
   "cell_type": "code",
   "execution_count": 24,
   "metadata": {},
   "outputs": [
    {
     "data": {
      "text/plain": [
       "name        4259\n",
       "brand        306\n",
       "price       1708\n",
       "rating         5\n",
       "review    155817\n",
       "votes        241\n",
       "dtype: int64"
      ]
     },
     "execution_count": 24,
     "metadata": {},
     "output_type": "execute_result"
    }
   ],
   "source": [
    "## the number of unique values in each column of the trimmed dataset\n",
    "df.nunique()"
   ]
  },
  {
   "cell_type": "markdown",
   "metadata": {},
   "source": [
    "# Analysis of Data Features"
   ]
  },
  {
   "cell_type": "markdown",
   "metadata": {},
   "source": [
    "## One Feature Analysis"
   ]
  },
  {
   "cell_type": "markdown",
   "metadata": {},
   "source": [
    "### Distribution by Brand\n",
    "\n",
    "The initial dataset contains 384 distinct brand names, also there are 63501 missing brand records. After rewriting all the brands as lower case and removing records for some brands that is easy to determine do correspond to mobile phones, there are 306 brands left.  "
   ]
  },
  {
   "cell_type": "code",
   "execution_count": 25,
   "metadata": {},
   "outputs": [
    {
     "name": "stdout",
     "output_type": "stream",
     "text": [
      "brand\n",
      "samsung       68697\n",
      "blu           63254\n",
      "apple         57454\n",
      "lg            22395\n",
      "blackberry    17865\n",
      "nokia         16814\n",
      "motorola      13330\n",
      "htc           12887\n",
      "cnpgd         12613\n",
      "sony           7891\n",
      "Name: brand, dtype: int64\n",
      "The 10 most numerous brands account for about 73.0% of the total records.\n"
     ]
    }
   ],
   "source": [
    "## the 10 most numerous brands \n",
    "df_brand=df.groupby(['brand'])['brand'].count().nlargest(10) \n",
    "\n",
    "## the percentage of records that correspond to the 10 most numerous brands\n",
    "print(df_brand)\n",
    "\n",
    "print('The 10 most numerous brands account for about {}% of the total records.'.format(round(df_brand.sum()/len(df) * 100),0))"
   ]
  },
  {
   "cell_type": "markdown",
   "metadata": {},
   "source": [
    "This list is dominated by Samsung, Blu and Apple."
   ]
  },
  {
   "cell_type": "code",
   "execution_count": 26,
   "metadata": {},
   "outputs": [
    {
     "data": {
      "image/png": "[encoded data removed]",
      "text/plain": [
       "<Figure size 500x500 with 1 Axes>"
      ]
     },
     "metadata": {},
     "output_type": "display_data"
    }
   ],
   "source": [
    "## pie chart for distribution of the 10 most numerous brands \n",
    "\n",
    "## create the figure in which the chart will be drawn\n",
    "plt.figure(figsize=(10, 10), dpi=50, linewidth=2, frameon=True)\n",
    "\n",
    "## the pie chart\n",
    "df_brand.plot(kind='pie', fontsize=16)\n",
    "plt.ylabel('')\n",
    "\n",
    "## the title\n",
    "plt.title('\\n Most Numerous Brands \\n', fontsize=22)\n",
    "\n",
    "plt.show()"
   ]
  },
  {
   "cell_type": "markdown",
   "metadata": {},
   "source": [
    "### Descriptive Statistics for Price"
   ]
  },
  {
   "cell_type": "code",
   "execution_count": 27,
   "metadata": {},
   "outputs": [
    {
     "name": "stdout",
     "output_type": "stream",
     "text": [
      "count    396024.00\n",
      "mean        230.61\n",
      "std         272.78\n",
      "min           2.29\n",
      "25%          83.50\n",
      "50%         149.99\n",
      "75%         276.37\n",
      "max        2598.00\n",
      "Name: price, dtype: float64\n"
     ]
    }
   ],
   "source": [
    "print(round(df.price.describe(),2))"
   ]
  },
  {
   "cell_type": "markdown",
   "metadata": {},
   "source": [
    "### Distribution by Rating"
   ]
  },
  {
   "cell_type": "code",
   "execution_count": 28,
   "metadata": {},
   "outputs": [
    {
     "data": {
      "text/html": [
       "<div>\n",
       "<style scoped>\n",
       "    .dataframe tbody tr th:only-of-type {\n",
       "        vertical-align: middle;\n",
       "    }\n",
       "\n",
       "    .dataframe tbody tr th {\n",
       "        vertical-align: top;\n",
       "    }\n",
       "\n",
       "    .dataframe thead th {\n",
       "        text-align: right;\n",
       "    }\n",
       "</style>\n",
       "<table border=\"1\" class=\"dataframe\">\n",
       "  <thead>\n",
       "    <tr style=\"text-align: right;\">\n",
       "      <th></th>\n",
       "      <th>name</th>\n",
       "      <th>brand</th>\n",
       "      <th>price</th>\n",
       "      <th>review</th>\n",
       "      <th>votes</th>\n",
       "    </tr>\n",
       "    <tr>\n",
       "      <th>rating</th>\n",
       "      <th></th>\n",
       "      <th></th>\n",
       "      <th></th>\n",
       "      <th></th>\n",
       "      <th></th>\n",
       "    </tr>\n",
       "  </thead>\n",
       "  <tbody>\n",
       "    <tr>\n",
       "      <th>1</th>\n",
       "      <td>71154</td>\n",
       "      <td>59684</td>\n",
       "      <td>69740</td>\n",
       "      <td>71154</td>\n",
       "      <td>71154</td>\n",
       "    </tr>\n",
       "    <tr>\n",
       "      <th>2</th>\n",
       "      <td>24255</td>\n",
       "      <td>20717</td>\n",
       "      <td>23797</td>\n",
       "      <td>24255</td>\n",
       "      <td>24255</td>\n",
       "    </tr>\n",
       "    <tr>\n",
       "      <th>3</th>\n",
       "      <td>31051</td>\n",
       "      <td>26686</td>\n",
       "      <td>30464</td>\n",
       "      <td>31051</td>\n",
       "      <td>31051</td>\n",
       "    </tr>\n",
       "    <tr>\n",
       "      <th>4</th>\n",
       "      <td>59892</td>\n",
       "      <td>51221</td>\n",
       "      <td>59054</td>\n",
       "      <td>59892</td>\n",
       "      <td>59892</td>\n",
       "    </tr>\n",
       "    <tr>\n",
       "      <th>5</th>\n",
       "      <td>215419</td>\n",
       "      <td>179962</td>\n",
       "      <td>212969</td>\n",
       "      <td>215419</td>\n",
       "      <td>215419</td>\n",
       "    </tr>\n",
       "  </tbody>\n",
       "</table>\n",
       "</div>"
      ],
      "text/plain": [
       "          name   brand   price  review   votes\n",
       "rating                                        \n",
       "1        71154   59684   69740   71154   71154\n",
       "2        24255   20717   23797   24255   24255\n",
       "3        31051   26686   30464   31051   31051\n",
       "4        59892   51221   59054   59892   59892\n",
       "5       215419  179962  212969  215419  215419"
      ]
     },
     "execution_count": 28,
     "metadata": {},
     "output_type": "execute_result"
    }
   ],
   "source": [
    "## distribution by rating: numerical information\n",
    "df.groupby(['rating']).count()"
   ]
  },
  {
   "cell_type": "code",
   "execution_count": 29,
   "metadata": {},
   "outputs": [
    {
     "data": {
      "image/png": "[encoded data removed]",
      "text/plain": [
       "<Figure size 600x300 with 1 Axes>"
      ]
     },
     "metadata": {
      "needs_background": "light"
     },
     "output_type": "display_data"
    }
   ],
   "source": [
    "## create a bar chart for the rating counts\n",
    "\n",
    "## the figure in which the chart will be drawn\n",
    "plt.figure(figsize=(12,6), dpi=50, linewidth=2, frameon=True)\n",
    "\n",
    "## the bar chart\n",
    "count_by_rating = df.rating.value_counts().loc[[1, 2, 3, 4, 5]]\n",
    "count_by_rating.plot(kind='bar', alpha=.8)\n",
    "\n",
    "## the title\n",
    "plt.title('\\n Count by Rating \\n', fontsize=22)\n",
    "\n",
    "## set x-axis interval, labels and ticks\n",
    "plt.xticks(fontsize=16, rotation=0)\n",
    "\n",
    "## set the location and labels of yticks\n",
    "plt.yticks(fontsize = 16)\n",
    "\n",
    "plt.show()\n"
   ]
  },
  {
   "cell_type": "markdown",
   "metadata": {},
   "source": [
    "The dataset is highly unbalanced, most of the products receive 5 star ratings, followed by 1 star ratings. In fact, the 5 star ratings account for half of the data.  "
   ]
  },
  {
   "cell_type": "markdown",
   "metadata": {},
   "source": [
    "### Review Length Analysis"
   ]
  },
  {
   "cell_type": "code",
   "execution_count": 30,
   "metadata": {},
   "outputs": [
    {
     "data": {
      "text/html": [
       "<div>\n",
       "<style scoped>\n",
       "    .dataframe tbody tr th:only-of-type {\n",
       "        vertical-align: middle;\n",
       "    }\n",
       "\n",
       "    .dataframe tbody tr th {\n",
       "        vertical-align: top;\n",
       "    }\n",
       "\n",
       "    .dataframe thead th {\n",
       "        text-align: right;\n",
       "    }\n",
       "</style>\n",
       "<table border=\"1\" class=\"dataframe\">\n",
       "  <thead>\n",
       "    <tr style=\"text-align: right;\">\n",
       "      <th></th>\n",
       "      <th>review</th>\n",
       "    </tr>\n",
       "  </thead>\n",
       "  <tbody>\n",
       "    <tr>\n",
       "      <th>count</th>\n",
       "      <td>401771.0</td>\n",
       "    </tr>\n",
       "    <tr>\n",
       "      <th>mean</th>\n",
       "      <td>219.0</td>\n",
       "    </tr>\n",
       "    <tr>\n",
       "      <th>std</th>\n",
       "      <td>468.0</td>\n",
       "    </tr>\n",
       "    <tr>\n",
       "      <th>min</th>\n",
       "      <td>1.0</td>\n",
       "    </tr>\n",
       "    <tr>\n",
       "      <th>25%</th>\n",
       "      <td>28.0</td>\n",
       "    </tr>\n",
       "    <tr>\n",
       "      <th>50%</th>\n",
       "      <td>94.0</td>\n",
       "    </tr>\n",
       "    <tr>\n",
       "      <th>75%</th>\n",
       "      <td>225.0</td>\n",
       "    </tr>\n",
       "    <tr>\n",
       "      <th>max</th>\n",
       "      <td>29419.0</td>\n",
       "    </tr>\n",
       "  </tbody>\n",
       "</table>\n",
       "</div>"
      ],
      "text/plain": [
       "         review\n",
       "count  401771.0\n",
       "mean      219.0\n",
       "std       468.0\n",
       "min         1.0\n",
       "25%        28.0\n",
       "50%        94.0\n",
       "75%       225.0\n",
       "max     29419.0"
      ]
     },
     "execution_count": 30,
     "metadata": {},
     "output_type": "execute_result"
    }
   ],
   "source": [
    "## create a dataframe that contains the review length\n",
    "revl = pd.DataFrame(df.review.str.len())\n",
    "\n",
    "## descriptive statistics of the review length\n",
    "revl.describe().round(0)"
   ]
  },
  {
   "cell_type": "code",
   "execution_count": 31,
   "metadata": {
    "collapsed": true
   },
   "outputs": [],
   "source": [
    "## bin edges that will be used to group the review length data\n",
    "bin_cuts = [ 0, 10, 100, 1000, 10000, 30000] \n",
    "\n",
    "## labels for the five groups of review lengths\n",
    "bin_names = [ 'vshort', 'short', 'medium' ,'long', 'vlong' ]\n",
    "\n",
    "## create length levels column, call it 'length'\n",
    "revl['length'] = pd.cut(revl.review, bin_cuts, labels=bin_names)"
   ]
  },
  {
   "cell_type": "code",
   "execution_count": 32,
   "metadata": {
    "collapsed": true
   },
   "outputs": [],
   "source": [
    "## change the type of 'length' to categorical in revl\n",
    "revl['length']= revl['length'].astype('category') "
   ]
  },
  {
   "cell_type": "code",
   "execution_count": 33,
   "metadata": {
    "collapsed": true
   },
   "outputs": [],
   "source": [
    "## counts in each bin of review length\n",
    "bin_values = revl.groupby(['length']).count()\n",
    "bin_values = list(bin_values['review'])"
   ]
  },
  {
   "cell_type": "code",
   "execution_count": 34,
   "metadata": {},
   "outputs": [
    {
     "data": {
      "image/png": "[encoded data removed]",
      "text/plain": [
       "<Figure size 600x300 with 1 Axes>"
      ]
     },
     "metadata": {
      "needs_background": "light"
     },
     "output_type": "display_data"
    }
   ],
   "source": [
    "## create a bar chart for the review length counts\n",
    "\n",
    "## the figure in which the chart will be drawn\n",
    "plt.figure(figsize=(12,6), dpi=50, linewidth=2, frameon=True)\n",
    "\n",
    "## the bar chart\n",
    "count_by_length = revl['length'].value_counts().loc[bin_names]\n",
    "ax=count_by_length.plot(kind='bar', alpha=.8)\n",
    "\n",
    "## the title\n",
    "ax.set_title('\\n Count by Review Length \\n', fontsize=22)\n",
    "\n",
    "## set x-axis interval, labels and ticks\n",
    "ax.set_xticklabels(bin_names, rotation=0, fontsize=24)\n",
    "\n",
    "## set y-axis labels\n",
    "ax.set_yticklabels([], fontsize=24)\n",
    "\n",
    "## label the bars by frequency\n",
    "for xlabel, ylabel in zip(ax.patches, bin_values):\n",
    "    height = xlabel.get_height()\n",
    "    ax.text(xlabel.get_x() + xlabel.get_width()/2, height + 6, ylabel,\n",
    "            ha='center', va='bottom', fontsize=18)\n",
    "\n",
    "plt.show()\n"
   ]
  },
  {
   "cell_type": "code",
   "execution_count": 35,
   "metadata": {},
   "outputs": [
    {
     "name": "stdout",
     "output_type": "stream",
     "text": [
      "<class 'pandas.core.frame.DataFrame'>\n",
      "Int64Index: 48059 entries, 39 to 413836\n",
      "Data columns (total 2 columns):\n",
      "review    48059 non-null int64\n",
      "length    48059 non-null category\n",
      "dtypes: category(1), int64(1)\n",
      "memory usage: 798.0 KB\n"
     ]
    }
   ],
   "source": [
    "## dataframe that contains the very short reviews only\n",
    "revl_vshort=revl[revl['length']=='vshort']\n",
    "revl_vshort.info()"
   ]
  },
  {
   "cell_type": "code",
   "execution_count": 36,
   "metadata": {},
   "outputs": [
    {
     "data": {
      "text/plain": [
       "[259, 1894, 577, 7901, 3327, 2096, 4673, 5681, 16121, 5530]"
      ]
     },
     "execution_count": 36,
     "metadata": {},
     "output_type": "execute_result"
    }
   ],
   "source": [
    "## list of counts grouped by review length, for reviews up to 10 characters\n",
    "rls=revl_vshort.groupby(['review']).count()\n",
    "ylist=rls['length'].tolist()\n",
    "ylist"
   ]
  },
  {
   "cell_type": "code",
   "execution_count": 37,
   "metadata": {},
   "outputs": [
    {
     "data": {
      "text/plain": [
       "<Figure size 600x300 with 0 Axes>"
      ]
     },
     "metadata": {},
     "output_type": "display_data"
    },
    {
     "data": {
      "image/png": "[encoded data removed]",
      "text/plain": [
       "<Figure size 432x288 with 1 Axes>"
      ]
     },
     "metadata": {
      "needs_background": "light"
     },
     "output_type": "display_data"
    }
   ],
   "source": [
    "## create a bar chart for the very short review counts\n",
    "\n",
    "## the figure in which the chart will be drawn\n",
    "plt.figure(figsize=(12,6), dpi=50, linewidth=2, frameon=True)\n",
    "\n",
    "## the bar chart\n",
    "ax=rls.plot(kind='bar', alpha=.8)\n",
    "\n",
    "## the title\n",
    "ax.set_title('\\n Distribution of Very Short Reviews \\n', fontsize=18)\n",
    "\n",
    "## create list of labels for the bar chart\n",
    "xlist = list(range(1,11))\n",
    "\n",
    "## set x-axis interval, labels and ticks\n",
    "ax.set_xticklabels(xlist, fontsize=12, rotation=0)\n",
    "\n",
    "## set y-axis interval, labels and ticks\n",
    "ax.set_yticklabels([], fontsize=16)\n",
    "\n",
    "## label the bars by frequency\n",
    "for xlabel, ylabel in zip(ax.patches, ylist):\n",
    "    height = xlabel.get_height()\n",
    "    ax.text(xlabel.get_x() + xlabel.get_width()/2, height + 6, ylabel,\n",
    "            ha='center', va='bottom', fontsize=12)\n",
    "\n",
    "plt.show()"
   ]
  },
  {
   "cell_type": "markdown",
   "metadata": {},
   "source": [
    "### Analysis of Number of Votes"
   ]
  },
  {
   "cell_type": "code",
   "execution_count": 38,
   "metadata": {},
   "outputs": [
    {
     "name": "stdout",
     "output_type": "stream",
     "text": [
      "count    401771.0\n",
      "mean          1.0\n",
      "std           9.0\n",
      "min           0.0\n",
      "25%           0.0\n",
      "50%           0.0\n",
      "75%           1.0\n",
      "max         645.0\n",
      "Name: votes, dtype: float64\n"
     ]
    }
   ],
   "source": [
    "## descriptive statistics of the number of votes per review\n",
    "print(round(df.votes.describe(),0))"
   ]
  },
  {
   "cell_type": "code",
   "execution_count": 39,
   "metadata": {},
   "outputs": [
    {
     "data": {
      "text/plain": [
       "3010"
      ]
     },
     "execution_count": 39,
     "metadata": {},
     "output_type": "execute_result"
    }
   ],
   "source": [
    "## number of reviews with more than 30 votes\n",
    "len(df[df['votes'] > 30]) "
   ]
  },
  {
   "cell_type": "code",
   "execution_count": 40,
   "metadata": {},
   "outputs": [
    {
     "data": {
      "text/plain": [
       "336748"
      ]
     },
     "execution_count": 40,
     "metadata": {},
     "output_type": "execute_result"
    }
   ],
   "source": [
    "## number of reviews that receive 0 or 1 votes\n",
    "len(df[df['votes'] < 2]) "
   ]
  },
  {
   "cell_type": "markdown",
   "metadata": {},
   "source": [
    "### Reflections\n",
    "\n",
    "Most of the reviews receive at most one vote. Only 3010 reviews receive more than 30 votes. This feature does not seem relevant in distinguishing properties of the data."
   ]
  },
  {
   "cell_type": "markdown",
   "metadata": {},
   "source": [
    "## Relations between Features"
   ]
  },
  {
   "cell_type": "markdown",
   "metadata": {},
   "source": [
    "### The relations between price and brand, price and rating "
   ]
  },
  {
   "cell_type": "code",
   "execution_count": 41,
   "metadata": {},
   "outputs": [
    {
     "data": {
      "text/html": [
       "<div>\n",
       "<style scoped>\n",
       "    .dataframe tbody tr th:only-of-type {\n",
       "        vertical-align: middle;\n",
       "    }\n",
       "\n",
       "    .dataframe tbody tr th {\n",
       "        vertical-align: top;\n",
       "    }\n",
       "\n",
       "    .dataframe thead th {\n",
       "        text-align: right;\n",
       "    }\n",
       "</style>\n",
       "<table border=\"1\" class=\"dataframe\">\n",
       "  <thead>\n",
       "    <tr style=\"text-align: right;\">\n",
       "      <th></th>\n",
       "      <th>brand</th>\n",
       "      <th>price</th>\n",
       "    </tr>\n",
       "  </thead>\n",
       "  <tbody>\n",
       "    <tr>\n",
       "      <th>107</th>\n",
       "      <td>iridium</td>\n",
       "      <td>1531.00</td>\n",
       "    </tr>\n",
       "    <tr>\n",
       "      <th>164</th>\n",
       "      <td>mtm trading llc</td>\n",
       "      <td>1300.00</td>\n",
       "    </tr>\n",
       "    <tr>\n",
       "      <th>79</th>\n",
       "      <td>google pixel</td>\n",
       "      <td>827.75</td>\n",
       "    </tr>\n",
       "    <tr>\n",
       "      <th>25</th>\n",
       "      <td>bluecosmo</td>\n",
       "      <td>734.00</td>\n",
       "    </tr>\n",
       "    <tr>\n",
       "      <th>207</th>\n",
       "      <td>s7 active</td>\n",
       "      <td>724.99</td>\n",
       "    </tr>\n",
       "    <tr>\n",
       "      <th>6</th>\n",
       "      <td>amazon.com, ...</td>\n",
       "      <td>674.76</td>\n",
       "    </tr>\n",
       "    <tr>\n",
       "      <th>212</th>\n",
       "      <td>samsung inte...</td>\n",
       "      <td>673.99</td>\n",
       "    </tr>\n",
       "    <tr>\n",
       "      <th>232</th>\n",
       "      <td>silent circle</td>\n",
       "      <td>632.34</td>\n",
       "    </tr>\n",
       "    <tr>\n",
       "      <th>227</th>\n",
       "      <td>shenzhen sno...</td>\n",
       "      <td>613.00</td>\n",
       "    </tr>\n",
       "    <tr>\n",
       "      <th>138</th>\n",
       "      <td>lenovo</td>\n",
       "      <td>609.67</td>\n",
       "    </tr>\n",
       "  </tbody>\n",
       "</table>\n",
       "</div>"
      ],
      "text/plain": [
       "               brand    price\n",
       "107          iridium  1531.00\n",
       "164  mtm trading llc  1300.00\n",
       "79      google pixel   827.75\n",
       "25         bluecosmo   734.00\n",
       "207        s7 active   724.99\n",
       "6    amazon.com, ...   674.76\n",
       "212  samsung inte...   673.99\n",
       "232    silent circle   632.34\n",
       "227  shenzhen sno...   613.00\n",
       "138           lenovo   609.67"
      ]
     },
     "execution_count": 41,
     "metadata": {},
     "output_type": "execute_result"
    }
   ],
   "source": [
    "## get the mean 'price' by 'brand'\n",
    "brand_info = df.groupby(['brand'], as_index=False)['price','rating'].mean().round(2)\n",
    "\n",
    "## sort the entries in decreasing order of mean 'price'\n",
    "brand_info.sort_values(['price'], ascending=False).head(10)"
   ]
  },
  {
   "cell_type": "code",
   "execution_count": 42,
   "metadata": {},
   "outputs": [
    {
     "data": {
      "text/html": [
       "<div>\n",
       "<style scoped>\n",
       "    .dataframe tbody tr th:only-of-type {\n",
       "        vertical-align: middle;\n",
       "    }\n",
       "\n",
       "    .dataframe tbody tr th {\n",
       "        vertical-align: top;\n",
       "    }\n",
       "\n",
       "    .dataframe thead th {\n",
       "        text-align: right;\n",
       "    }\n",
       "</style>\n",
       "<table border=\"1\" class=\"dataframe\">\n",
       "  <thead>\n",
       "    <tr style=\"text-align: right;\">\n",
       "      <th></th>\n",
       "      <th>brand</th>\n",
       "      <th>count</th>\n",
       "      <th>mean_price</th>\n",
       "    </tr>\n",
       "  </thead>\n",
       "  <tbody>\n",
       "    <tr>\n",
       "      <th>209</th>\n",
       "      <td>samsung</td>\n",
       "      <td>68697</td>\n",
       "      <td>294.47</td>\n",
       "    </tr>\n",
       "    <tr>\n",
       "      <th>22</th>\n",
       "      <td>blu</td>\n",
       "      <td>63254</td>\n",
       "      <td>245.40</td>\n",
       "    </tr>\n",
       "    <tr>\n",
       "      <th>9</th>\n",
       "      <td>apple</td>\n",
       "      <td>57454</td>\n",
       "      <td>305.95</td>\n",
       "    </tr>\n",
       "    <tr>\n",
       "      <th>141</th>\n",
       "      <td>lg</td>\n",
       "      <td>22395</td>\n",
       "      <td>207.94</td>\n",
       "    </tr>\n",
       "    <tr>\n",
       "      <th>18</th>\n",
       "      <td>blackberry</td>\n",
       "      <td>17865</td>\n",
       "      <td>90.81</td>\n",
       "    </tr>\n",
       "    <tr>\n",
       "      <th>168</th>\n",
       "      <td>nokia</td>\n",
       "      <td>16814</td>\n",
       "      <td>153.90</td>\n",
       "    </tr>\n",
       "    <tr>\n",
       "      <th>162</th>\n",
       "      <td>motorola</td>\n",
       "      <td>13330</td>\n",
       "      <td>151.89</td>\n",
       "    </tr>\n",
       "    <tr>\n",
       "      <th>93</th>\n",
       "      <td>htc</td>\n",
       "      <td>12887</td>\n",
       "      <td>160.80</td>\n",
       "    </tr>\n",
       "    <tr>\n",
       "      <th>40</th>\n",
       "      <td>cnpgd</td>\n",
       "      <td>12613</td>\n",
       "      <td>52.01</td>\n",
       "    </tr>\n",
       "    <tr>\n",
       "      <th>239</th>\n",
       "      <td>sony</td>\n",
       "      <td>7891</td>\n",
       "      <td>305.78</td>\n",
       "    </tr>\n",
       "  </tbody>\n",
       "</table>\n",
       "</div>"
      ],
      "text/plain": [
       "          brand  count  mean_price\n",
       "209     samsung  68697      294.47\n",
       "22          blu  63254      245.40\n",
       "9         apple  57454      305.95\n",
       "141          lg  22395      207.94\n",
       "18   blackberry  17865       90.81\n",
       "168       nokia  16814      153.90\n",
       "162    motorola  13330      151.89\n",
       "93          htc  12887      160.80\n",
       "40        cnpgd  12613       52.01\n",
       "239        sony   7891      305.78"
      ]
     },
     "execution_count": 42,
     "metadata": {},
     "output_type": "execute_result"
    }
   ],
   "source": [
    "## the average price for the most numerous brands\n",
    "\n",
    "dfm = df.groupby('brand') \\\n",
    "       .agg({'brand':'count', 'price':'mean'}) \\\n",
    "       .rename(columns={'brand':'count','price':'mean_price'}) \\\n",
    "       .reset_index()\n",
    "dfm_sorted = dfm.sort_values(by='count', ascending=False).head(10).round(2)\n",
    "dfm_sorted"
   ]
  },
  {
   "cell_type": "code",
   "execution_count": 43,
   "metadata": {},
   "outputs": [
    {
     "data": {
      "text/html": [
       "<div>\n",
       "<style scoped>\n",
       "    .dataframe tbody tr th:only-of-type {\n",
       "        vertical-align: middle;\n",
       "    }\n",
       "\n",
       "    .dataframe tbody tr th {\n",
       "        vertical-align: top;\n",
       "    }\n",
       "\n",
       "    .dataframe thead th {\n",
       "        text-align: right;\n",
       "    }\n",
       "</style>\n",
       "<table border=\"1\" class=\"dataframe\">\n",
       "  <thead>\n",
       "    <tr style=\"text-align: right;\">\n",
       "      <th></th>\n",
       "      <th>rating</th>\n",
       "      <th>price</th>\n",
       "    </tr>\n",
       "  </thead>\n",
       "  <tbody>\n",
       "    <tr>\n",
       "      <th>0</th>\n",
       "      <td>1</td>\n",
       "      <td>203.34</td>\n",
       "    </tr>\n",
       "    <tr>\n",
       "      <th>1</th>\n",
       "      <td>2</td>\n",
       "      <td>195.59</td>\n",
       "    </tr>\n",
       "    <tr>\n",
       "      <th>2</th>\n",
       "      <td>3</td>\n",
       "      <td>186.87</td>\n",
       "    </tr>\n",
       "    <tr>\n",
       "      <th>3</th>\n",
       "      <td>4</td>\n",
       "      <td>214.48</td>\n",
       "    </tr>\n",
       "    <tr>\n",
       "      <th>4</th>\n",
       "      <td>5</td>\n",
       "      <td>254.18</td>\n",
       "    </tr>\n",
       "  </tbody>\n",
       "</table>\n",
       "</div>"
      ],
      "text/plain": [
       "  rating   price\n",
       "0      1  203.34\n",
       "1      2  195.59\n",
       "2      3  186.87\n",
       "3      4  214.48\n",
       "4      5  254.18"
      ]
     },
     "execution_count": 43,
     "metadata": {},
     "output_type": "execute_result"
    }
   ],
   "source": [
    "### get the mean 'price' by 'rating'\n",
    "price_rating = df.groupby(['rating'], as_index=False)['price'].mean().round(2)\n",
    "price_rating"
   ]
  },
  {
   "cell_type": "markdown",
   "metadata": {},
   "source": [
    "### Review Length versus Price and Brand"
   ]
  },
  {
   "cell_type": "code",
   "execution_count": 44,
   "metadata": {},
   "outputs": [
    {
     "name": "stdout",
     "output_type": "stream",
     "text": [
      "<class 'pandas.core.frame.DataFrame'>\n",
      "Int64Index: 401771 entries, 0 to 413839\n",
      "Data columns (total 7 columns):\n",
      "name      401771 non-null object\n",
      "brand     338270 non-null object\n",
      "price     396024 non-null float64\n",
      "rating    401771 non-null category\n",
      "review    401771 non-null object\n",
      "votes     401771 non-null int64\n",
      "revl      401771 non-null int64\n",
      "dtypes: category(1), float64(1), int64(2), object(3)\n",
      "memory usage: 21.8+ MB\n"
     ]
    }
   ],
   "source": [
    "## create a column that contains the length of each review\n",
    "df['revl'] = df['review'].str.len()\n",
    "\n",
    "## check for success\n",
    "df.info()"
   ]
  },
  {
   "cell_type": "code",
   "execution_count": 45,
   "metadata": {},
   "outputs": [
    {
     "data": {
      "text/html": [
       "<div>\n",
       "<style scoped>\n",
       "    .dataframe tbody tr th:only-of-type {\n",
       "        vertical-align: middle;\n",
       "    }\n",
       "\n",
       "    .dataframe tbody tr th {\n",
       "        vertical-align: top;\n",
       "    }\n",
       "\n",
       "    .dataframe thead th {\n",
       "        text-align: right;\n",
       "    }\n",
       "</style>\n",
       "<table border=\"1\" class=\"dataframe\">\n",
       "  <thead>\n",
       "    <tr style=\"text-align: right;\">\n",
       "      <th></th>\n",
       "      <th>brand</th>\n",
       "      <th>revl</th>\n",
       "    </tr>\n",
       "  </thead>\n",
       "  <tbody>\n",
       "    <tr>\n",
       "      <th>41</th>\n",
       "      <td>conquest s8 ...</td>\n",
       "      <td>3222.00</td>\n",
       "    </tr>\n",
       "    <tr>\n",
       "      <th>186</th>\n",
       "      <td>peek</td>\n",
       "      <td>3194.29</td>\n",
       "    </tr>\n",
       "    <tr>\n",
       "      <th>137</th>\n",
       "      <td>leeco</td>\n",
       "      <td>2437.00</td>\n",
       "    </tr>\n",
       "    <tr>\n",
       "      <th>71</th>\n",
       "      <td>geekera</td>\n",
       "      <td>1412.50</td>\n",
       "    </tr>\n",
       "    <tr>\n",
       "      <th>113</th>\n",
       "      <td>jhm</td>\n",
       "      <td>1264.00</td>\n",
       "    </tr>\n",
       "    <tr>\n",
       "      <th>92</th>\n",
       "      <td>hp handheld</td>\n",
       "      <td>1171.19</td>\n",
       "    </tr>\n",
       "    <tr>\n",
       "      <th>73</th>\n",
       "      <td>getnord</td>\n",
       "      <td>1168.20</td>\n",
       "    </tr>\n",
       "    <tr>\n",
       "      <th>115</th>\n",
       "      <td>jiayu</td>\n",
       "      <td>1035.00</td>\n",
       "    </tr>\n",
       "    <tr>\n",
       "      <th>232</th>\n",
       "      <td>silent circle</td>\n",
       "      <td>921.75</td>\n",
       "    </tr>\n",
       "    <tr>\n",
       "      <th>135</th>\n",
       "      <td>lber</td>\n",
       "      <td>913.33</td>\n",
       "    </tr>\n",
       "  </tbody>\n",
       "</table>\n",
       "</div>"
      ],
      "text/plain": [
       "               brand     revl\n",
       "41   conquest s8 ...  3222.00\n",
       "186             peek  3194.29\n",
       "137            leeco  2437.00\n",
       "71           geekera  1412.50\n",
       "113              jhm  1264.00\n",
       "92       hp handheld  1171.19\n",
       "73           getnord  1168.20\n",
       "115            jiayu  1035.00\n",
       "232    silent circle   921.75\n",
       "135             lber   913.33"
      ]
     },
     "execution_count": 45,
     "metadata": {},
     "output_type": "execute_result"
    }
   ],
   "source": [
    "## the average review length by brand\n",
    "rev_brand = df.groupby(['brand'], as_index=False)['revl'].mean().round(2)\n",
    "\n",
    "## sort the entries in decreasing order of mean 'revl'\n",
    "rev_brand.sort_values(['revl'], ascending=False).head(10)"
   ]
  },
  {
   "cell_type": "code",
   "execution_count": 46,
   "metadata": {},
   "outputs": [
    {
     "data": {
      "text/html": [
       "<div>\n",
       "<style scoped>\n",
       "    .dataframe tbody tr th:only-of-type {\n",
       "        vertical-align: middle;\n",
       "    }\n",
       "\n",
       "    .dataframe tbody tr th {\n",
       "        vertical-align: top;\n",
       "    }\n",
       "\n",
       "    .dataframe thead th {\n",
       "        text-align: right;\n",
       "    }\n",
       "</style>\n",
       "<table border=\"1\" class=\"dataframe\">\n",
       "  <thead>\n",
       "    <tr style=\"text-align: right;\">\n",
       "      <th></th>\n",
       "      <th>brand</th>\n",
       "      <th>count</th>\n",
       "      <th>mean_length</th>\n",
       "      <th>mean_price</th>\n",
       "    </tr>\n",
       "  </thead>\n",
       "  <tbody>\n",
       "    <tr>\n",
       "      <th>209</th>\n",
       "      <td>samsung</td>\n",
       "      <td>68697</td>\n",
       "      <td>188.35</td>\n",
       "      <td>294.47</td>\n",
       "    </tr>\n",
       "    <tr>\n",
       "      <th>22</th>\n",
       "      <td>blu</td>\n",
       "      <td>63254</td>\n",
       "      <td>228.10</td>\n",
       "      <td>245.40</td>\n",
       "    </tr>\n",
       "    <tr>\n",
       "      <th>9</th>\n",
       "      <td>apple</td>\n",
       "      <td>57454</td>\n",
       "      <td>132.33</td>\n",
       "      <td>305.95</td>\n",
       "    </tr>\n",
       "    <tr>\n",
       "      <th>141</th>\n",
       "      <td>lg</td>\n",
       "      <td>22395</td>\n",
       "      <td>215.85</td>\n",
       "      <td>207.94</td>\n",
       "    </tr>\n",
       "    <tr>\n",
       "      <th>18</th>\n",
       "      <td>blackberry</td>\n",
       "      <td>17865</td>\n",
       "      <td>207.67</td>\n",
       "      <td>90.81</td>\n",
       "    </tr>\n",
       "    <tr>\n",
       "      <th>168</th>\n",
       "      <td>nokia</td>\n",
       "      <td>16814</td>\n",
       "      <td>371.18</td>\n",
       "      <td>153.90</td>\n",
       "    </tr>\n",
       "    <tr>\n",
       "      <th>162</th>\n",
       "      <td>motorola</td>\n",
       "      <td>13330</td>\n",
       "      <td>276.03</td>\n",
       "      <td>151.89</td>\n",
       "    </tr>\n",
       "    <tr>\n",
       "      <th>93</th>\n",
       "      <td>htc</td>\n",
       "      <td>12887</td>\n",
       "      <td>227.87</td>\n",
       "      <td>160.80</td>\n",
       "    </tr>\n",
       "    <tr>\n",
       "      <th>40</th>\n",
       "      <td>cnpgd</td>\n",
       "      <td>12613</td>\n",
       "      <td>193.02</td>\n",
       "      <td>52.01</td>\n",
       "    </tr>\n",
       "    <tr>\n",
       "      <th>239</th>\n",
       "      <td>sony</td>\n",
       "      <td>7891</td>\n",
       "      <td>364.99</td>\n",
       "      <td>305.78</td>\n",
       "    </tr>\n",
       "  </tbody>\n",
       "</table>\n",
       "</div>"
      ],
      "text/plain": [
       "          brand  count  mean_length  mean_price\n",
       "209     samsung  68697       188.35      294.47\n",
       "22          blu  63254       228.10      245.40\n",
       "9         apple  57454       132.33      305.95\n",
       "141          lg  22395       215.85      207.94\n",
       "18   blackberry  17865       207.67       90.81\n",
       "168       nokia  16814       371.18      153.90\n",
       "162    motorola  13330       276.03      151.89\n",
       "93          htc  12887       227.87      160.80\n",
       "40        cnpgd  12613       193.02       52.01\n",
       "239        sony   7891       364.99      305.78"
      ]
     },
     "execution_count": 46,
     "metadata": {},
     "output_type": "execute_result"
    }
   ],
   "source": [
    "## average values for the most numerous brands\n",
    "dfrev = df.groupby('brand') \\\n",
    "       .agg({'brand':'count', 'revl':'mean', 'price':'mean'}) \\\n",
    "       .rename(columns={'brand':'count','revl':'mean_length', 'price':'mean_price'}) \\\n",
    "       .reset_index()\n",
    "dfrev_sorted = dfrev.sort_values(by='count', ascending=False).head(10).round(2)\n",
    "dfrev_sorted"
   ]
  },
  {
   "cell_type": "markdown",
   "metadata": {},
   "source": [
    "### Ratings vs. Review Length and Price"
   ]
  },
  {
   "cell_type": "code",
   "execution_count": 47,
   "metadata": {},
   "outputs": [
    {
     "data": {
      "text/html": [
       "<div>\n",
       "<style scoped>\n",
       "    .dataframe tbody tr th:only-of-type {\n",
       "        vertical-align: middle;\n",
       "    }\n",
       "\n",
       "    .dataframe tbody tr th {\n",
       "        vertical-align: top;\n",
       "    }\n",
       "\n",
       "    .dataframe thead th {\n",
       "        text-align: right;\n",
       "    }\n",
       "</style>\n",
       "<table border=\"1\" class=\"dataframe\">\n",
       "  <thead>\n",
       "    <tr style=\"text-align: right;\">\n",
       "      <th></th>\n",
       "      <th>rating</th>\n",
       "      <th>mean_length</th>\n",
       "      <th>mean_price</th>\n",
       "    </tr>\n",
       "  </thead>\n",
       "  <tbody>\n",
       "    <tr>\n",
       "      <th>0</th>\n",
       "      <td>1</td>\n",
       "      <td>245.20</td>\n",
       "      <td>203.34</td>\n",
       "    </tr>\n",
       "    <tr>\n",
       "      <th>1</th>\n",
       "      <td>2</td>\n",
       "      <td>327.70</td>\n",
       "      <td>195.59</td>\n",
       "    </tr>\n",
       "    <tr>\n",
       "      <th>2</th>\n",
       "      <td>3</td>\n",
       "      <td>299.15</td>\n",
       "      <td>186.87</td>\n",
       "    </tr>\n",
       "    <tr>\n",
       "      <th>3</th>\n",
       "      <td>4</td>\n",
       "      <td>276.07</td>\n",
       "      <td>214.48</td>\n",
       "    </tr>\n",
       "    <tr>\n",
       "      <th>4</th>\n",
       "      <td>5</td>\n",
       "      <td>170.30</td>\n",
       "      <td>254.18</td>\n",
       "    </tr>\n",
       "  </tbody>\n",
       "</table>\n",
       "</div>"
      ],
      "text/plain": [
       "  rating  mean_length  mean_price\n",
       "0      1       245.20      203.34\n",
       "1      2       327.70      195.59\n",
       "2      3       299.15      186.87\n",
       "3      4       276.07      214.48\n",
       "4      5       170.30      254.18"
      ]
     },
     "execution_count": 47,
     "metadata": {},
     "output_type": "execute_result"
    }
   ],
   "source": [
    "## average review length and average price by rating\n",
    "\n",
    "dfrate = df.groupby('rating') \\\n",
    "       .agg({'revl':'mean', 'price':'mean'}) \\\n",
    "       .rename(columns={'revl':'mean_length','price':'mean_price'}) \\\n",
    "       .reset_index()\n",
    "dfrate.round(2)"
   ]
  },
  {
   "cell_type": "markdown",
   "metadata": {},
   "source": [
    "# Data Binning"
   ]
  },
  {
   "cell_type": "markdown",
   "metadata": {},
   "source": [
    "#### Remove all the 3 star ratings records."
   ]
  },
  {
   "cell_type": "code",
   "execution_count": 48,
   "metadata": {},
   "outputs": [
    {
     "data": {
      "text/plain": [
       "name        4228\n",
       "brand        304\n",
       "price       1697\n",
       "rating         4\n",
       "review    141984\n",
       "votes        232\n",
       "revl        3291\n",
       "dtype: int64"
      ]
     },
     "execution_count": 48,
     "metadata": {},
     "output_type": "execute_result"
    }
   ],
   "source": [
    "## drop all the entries where rating is 3\n",
    "df = df[df.rating !=3]\n",
    "\n",
    "## check for success\n",
    "df.nunique()"
   ]
  },
  {
   "cell_type": "markdown",
   "metadata": {},
   "source": [
    "#### Create a new categorical feature with 2 bins: 0(1,2 rating) and 1(4,5 rating)"
   ]
  },
  {
   "cell_type": "code",
   "execution_count": 49,
   "metadata": {},
   "outputs": [
    {
     "data": {
      "text/html": [
       "<div>\n",
       "<style scoped>\n",
       "    .dataframe tbody tr th:only-of-type {\n",
       "        vertical-align: middle;\n",
       "    }\n",
       "\n",
       "    .dataframe tbody tr th {\n",
       "        vertical-align: top;\n",
       "    }\n",
       "\n",
       "    .dataframe thead th {\n",
       "        text-align: right;\n",
       "    }\n",
       "</style>\n",
       "<table border=\"1\" class=\"dataframe\">\n",
       "  <thead>\n",
       "    <tr style=\"text-align: right;\">\n",
       "      <th></th>\n",
       "      <th>name</th>\n",
       "      <th>brand</th>\n",
       "      <th>price</th>\n",
       "      <th>rating</th>\n",
       "      <th>review</th>\n",
       "      <th>votes</th>\n",
       "      <th>revl</th>\n",
       "      <th>feel</th>\n",
       "    </tr>\n",
       "  </thead>\n",
       "  <tbody>\n",
       "    <tr>\n",
       "      <th>0</th>\n",
       "      <td>\"CLEAR CLEAN...</td>\n",
       "      <td>samsung</td>\n",
       "      <td>199.99</td>\n",
       "      <td>5</td>\n",
       "      <td>I feel so LU...</td>\n",
       "      <td>1</td>\n",
       "      <td>374</td>\n",
       "      <td>0</td>\n",
       "    </tr>\n",
       "    <tr>\n",
       "      <th>1</th>\n",
       "      <td>\"CLEAR CLEAN...</td>\n",
       "      <td>samsung</td>\n",
       "      <td>199.99</td>\n",
       "      <td>4</td>\n",
       "      <td>nice phone, ...</td>\n",
       "      <td>0</td>\n",
       "      <td>214</td>\n",
       "      <td>0</td>\n",
       "    </tr>\n",
       "  </tbody>\n",
       "</table>\n",
       "</div>"
      ],
      "text/plain": [
       "              name    brand   price rating           review  votes  revl  feel\n",
       "0  \"CLEAR CLEAN...  samsung  199.99      5  I feel so LU...      1   374     0\n",
       "1  \"CLEAR CLEAN...  samsung  199.99      4  nice phone, ...      0   214     0"
      ]
     },
     "execution_count": 49,
     "metadata": {},
     "output_type": "execute_result"
    }
   ],
   "source": [
    "## create a column 'feel' with default value 0\n",
    "df['feel']= 0\n",
    "\n",
    "## check for success\n",
    "df.head(2)"
   ]
  },
  {
   "cell_type": "code",
   "execution_count": 50,
   "metadata": {},
   "outputs": [
    {
     "data": {
      "text/plain": [
       "name        4228\n",
       "brand        304\n",
       "price       1697\n",
       "rating         4\n",
       "review    141984\n",
       "votes        232\n",
       "revl        3291\n",
       "feel           2\n",
       "dtype: int64"
      ]
     },
     "execution_count": 50,
     "metadata": {},
     "output_type": "execute_result"
    }
   ],
   "source": [
    "## change the value of 'feel' to 1 if the rating is 4 or 5\n",
    "df.loc[(df['rating'] == 4),  ['feel']] =1\n",
    "df.loc[(df['rating'] == 5),  ['feel']] =1\n",
    "\n",
    "## check for success\n",
    "df.nunique()"
   ]
  },
  {
   "cell_type": "code",
   "execution_count": 51,
   "metadata": {},
   "outputs": [
    {
     "name": "stdout",
     "output_type": "stream",
     "text": [
      "<class 'pandas.core.frame.DataFrame'>\n",
      "Int64Index: 370720 entries, 0 to 413839\n",
      "Data columns (total 8 columns):\n",
      "name      370720 non-null object\n",
      "brand     311584 non-null object\n",
      "price     365560 non-null float64\n",
      "rating    370720 non-null category\n",
      "review    370720 non-null object\n",
      "votes     370720 non-null int64\n",
      "revl      370720 non-null int64\n",
      "feel      370720 non-null category\n",
      "dtypes: category(2), float64(1), int64(2), object(3)\n",
      "memory usage: 20.5+ MB\n"
     ]
    }
   ],
   "source": [
    "## change the type of 'feel' to category\n",
    "df['feel'] = df['feel'].astype('category') \n",
    "\n",
    "## check for success\n",
    "df.info()"
   ]
  },
  {
   "cell_type": "code",
   "execution_count": 52,
   "metadata": {
    "collapsed": true
   },
   "outputs": [],
   "source": [
    "## reindex thedataframe\n",
    "df = df.reset_index(drop=True)"
   ]
  },
  {
   "cell_type": "code",
   "execution_count": 53,
   "metadata": {},
   "outputs": [
    {
     "name": "stdout",
     "output_type": "stream",
     "text": [
      "<class 'pandas.core.frame.DataFrame'>\n",
      "RangeIndex: 370720 entries, 0 to 370719\n",
      "Data columns (total 8 columns):\n",
      "name      370720 non-null object\n",
      "brand     311584 non-null object\n",
      "price     365560 non-null float64\n",
      "rating    370720 non-null category\n",
      "review    370720 non-null object\n",
      "votes     370720 non-null int64\n",
      "revl      370720 non-null int64\n",
      "feel      370720 non-null category\n",
      "dtypes: category(2), float64(1), int64(2), object(3)\n",
      "memory usage: 17.7+ MB\n"
     ]
    }
   ],
   "source": [
    "df.info()"
   ]
  },
  {
   "cell_type": "markdown",
   "metadata": {},
   "source": [
    "## Store the Prepared Data"
   ]
  },
  {
   "cell_type": "code",
   "execution_count": 54,
   "metadata": {
    "collapsed": true
   },
   "outputs": [],
   "source": [
    "# store the processed dataframe as a csv file\n",
    "df.to_csv('mobile_phones_prepared.csv', index=False)"
   ]
  },
  {
   "cell_type": "markdown",
   "metadata": {
    "collapsed": true
   },
   "source": [
    "## Upload the Prepared Data"
   ]
  },
  {
   "cell_type": "code",
   "execution_count": 55,
   "metadata": {},
   "outputs": [
    {
     "data": {
      "text/html": [
       "<div>\n",
       "<style scoped>\n",
       "    .dataframe tbody tr th:only-of-type {\n",
       "        vertical-align: middle;\n",
       "    }\n",
       "\n",
       "    .dataframe tbody tr th {\n",
       "        vertical-align: top;\n",
       "    }\n",
       "\n",
       "    .dataframe thead th {\n",
       "        text-align: right;\n",
       "    }\n",
       "</style>\n",
       "<table border=\"1\" class=\"dataframe\">\n",
       "  <thead>\n",
       "    <tr style=\"text-align: right;\">\n",
       "      <th></th>\n",
       "      <th>name</th>\n",
       "      <th>brand</th>\n",
       "      <th>price</th>\n",
       "      <th>rating</th>\n",
       "      <th>review</th>\n",
       "      <th>votes</th>\n",
       "      <th>revl</th>\n",
       "      <th>feel</th>\n",
       "    </tr>\n",
       "  </thead>\n",
       "  <tbody>\n",
       "    <tr>\n",
       "      <th>0</th>\n",
       "      <td>\"CLEAR CLEAN...</td>\n",
       "      <td>samsung</td>\n",
       "      <td>199.99</td>\n",
       "      <td>5</td>\n",
       "      <td>I feel so LU...</td>\n",
       "      <td>1</td>\n",
       "      <td>374</td>\n",
       "      <td>1</td>\n",
       "    </tr>\n",
       "    <tr>\n",
       "      <th>1</th>\n",
       "      <td>\"CLEAR CLEAN...</td>\n",
       "      <td>samsung</td>\n",
       "      <td>199.99</td>\n",
       "      <td>4</td>\n",
       "      <td>nice phone, ...</td>\n",
       "      <td>0</td>\n",
       "      <td>214</td>\n",
       "      <td>1</td>\n",
       "    </tr>\n",
       "    <tr>\n",
       "      <th>2</th>\n",
       "      <td>\"CLEAR CLEAN...</td>\n",
       "      <td>samsung</td>\n",
       "      <td>199.99</td>\n",
       "      <td>5</td>\n",
       "      <td>Very pleased</td>\n",
       "      <td>0</td>\n",
       "      <td>12</td>\n",
       "      <td>1</td>\n",
       "    </tr>\n",
       "    <tr>\n",
       "      <th>3</th>\n",
       "      <td>\"CLEAR CLEAN...</td>\n",
       "      <td>samsung</td>\n",
       "      <td>199.99</td>\n",
       "      <td>4</td>\n",
       "      <td>It works goo...</td>\n",
       "      <td>0</td>\n",
       "      <td>76</td>\n",
       "      <td>1</td>\n",
       "    </tr>\n",
       "    <tr>\n",
       "      <th>4</th>\n",
       "      <td>\"CLEAR CLEAN...</td>\n",
       "      <td>samsung</td>\n",
       "      <td>199.99</td>\n",
       "      <td>4</td>\n",
       "      <td>Great phone ...</td>\n",
       "      <td>0</td>\n",
       "      <td>223</td>\n",
       "      <td>1</td>\n",
       "    </tr>\n",
       "  </tbody>\n",
       "</table>\n",
       "</div>"
      ],
      "text/plain": [
       "              name    brand   price  rating           review  votes  revl  \\\n",
       "0  \"CLEAR CLEAN...  samsung  199.99       5  I feel so LU...      1   374   \n",
       "1  \"CLEAR CLEAN...  samsung  199.99       4  nice phone, ...      0   214   \n",
       "2  \"CLEAR CLEAN...  samsung  199.99       5     Very pleased      0    12   \n",
       "3  \"CLEAR CLEAN...  samsung  199.99       4  It works goo...      0    76   \n",
       "4  \"CLEAR CLEAN...  samsung  199.99       4  Great phone ...      0   223   \n",
       "\n",
       "   feel  \n",
       "0     1  \n",
       "1     1  \n",
       "2     1  \n",
       "3     1  \n",
       "4     1  "
      ]
     },
     "execution_count": 55,
     "metadata": {},
     "output_type": "execute_result"
    }
   ],
   "source": [
    "## read data from the cvs file and save it as a Pandas dataframe \n",
    "mobile = pd.read_csv('mobile_phones_prepared.csv') \n",
    "\n",
    "## check the dataframe\n",
    "mobile.head()"
   ]
  },
  {
   "cell_type": "markdown",
   "metadata": {},
   "source": [
    "# Basic Text Features Extraction and Analysis"
   ]
  },
  {
   "cell_type": "markdown",
   "metadata": {},
   "source": [
    "These steps follow the examples from  [Ultimate guide to deal with the text data](https://www.analyticsvidhya.com/blog/2018/02/the-different-methods-deal-text-data-predictive-python/) and [Machine Learning - Text Processing](https://towardsdatascience.com/machine-learning-text-processing-1d5a2d638958). "
   ]
  },
  {
   "cell_type": "code",
   "execution_count": 56,
   "metadata": {},
   "outputs": [
    {
     "data": {
      "text/html": [
       "<div>\n",
       "<style scoped>\n",
       "    .dataframe tbody tr th:only-of-type {\n",
       "        vertical-align: middle;\n",
       "    }\n",
       "\n",
       "    .dataframe tbody tr th {\n",
       "        vertical-align: top;\n",
       "    }\n",
       "\n",
       "    .dataframe thead th {\n",
       "        text-align: right;\n",
       "    }\n",
       "</style>\n",
       "<table border=\"1\" class=\"dataframe\">\n",
       "  <thead>\n",
       "    <tr style=\"text-align: right;\">\n",
       "      <th></th>\n",
       "      <th>rating</th>\n",
       "      <th>votes</th>\n",
       "      <th>revl</th>\n",
       "      <th>feel</th>\n",
       "      <th>nr_words</th>\n",
       "      <th>swords</th>\n",
       "      <th>nr_special</th>\n",
       "      <th>nr_upper</th>\n",
       "    </tr>\n",
       "  </thead>\n",
       "  <tbody>\n",
       "    <tr>\n",
       "      <th>count</th>\n",
       "      <td>370720.00</td>\n",
       "      <td>370720.00</td>\n",
       "      <td>370720.00</td>\n",
       "      <td>370720.00</td>\n",
       "      <td>370720.00</td>\n",
       "      <td>370720.00</td>\n",
       "      <td>370720.00</td>\n",
       "      <td>370720.00</td>\n",
       "    </tr>\n",
       "    <tr>\n",
       "      <th>mean</th>\n",
       "      <td>3.87</td>\n",
       "      <td>1.50</td>\n",
       "      <td>212.06</td>\n",
       "      <td>0.74</td>\n",
       "      <td>39.58</td>\n",
       "      <td>15.83</td>\n",
       "      <td>6.60</td>\n",
       "      <td>2.13</td>\n",
       "    </tr>\n",
       "    <tr>\n",
       "      <th>std</th>\n",
       "      <td>1.60</td>\n",
       "      <td>9.17</td>\n",
       "      <td>458.89</td>\n",
       "      <td>0.44</td>\n",
       "      <td>84.37</td>\n",
       "      <td>35.19</td>\n",
       "      <td>19.23</td>\n",
       "      <td>6.35</td>\n",
       "    </tr>\n",
       "    <tr>\n",
       "      <th>min</th>\n",
       "      <td>1.00</td>\n",
       "      <td>0.00</td>\n",
       "      <td>1.00</td>\n",
       "      <td>0.00</td>\n",
       "      <td>1.00</td>\n",
       "      <td>0.00</td>\n",
       "      <td>0.00</td>\n",
       "      <td>0.00</td>\n",
       "    </tr>\n",
       "    <tr>\n",
       "      <th>25%</th>\n",
       "      <td>2.00</td>\n",
       "      <td>0.00</td>\n",
       "      <td>26.00</td>\n",
       "      <td>0.00</td>\n",
       "      <td>5.00</td>\n",
       "      <td>1.00</td>\n",
       "      <td>0.00</td>\n",
       "      <td>0.00</td>\n",
       "    </tr>\n",
       "    <tr>\n",
       "      <th>50%</th>\n",
       "      <td>5.00</td>\n",
       "      <td>0.00</td>\n",
       "      <td>89.00</td>\n",
       "      <td>1.00</td>\n",
       "      <td>17.00</td>\n",
       "      <td>6.00</td>\n",
       "      <td>2.00</td>\n",
       "      <td>0.00</td>\n",
       "    </tr>\n",
       "    <tr>\n",
       "      <th>75%</th>\n",
       "      <td>5.00</td>\n",
       "      <td>1.00</td>\n",
       "      <td>217.00</td>\n",
       "      <td>1.00</td>\n",
       "      <td>41.00</td>\n",
       "      <td>17.00</td>\n",
       "      <td>6.00</td>\n",
       "      <td>2.00</td>\n",
       "    </tr>\n",
       "    <tr>\n",
       "      <th>max</th>\n",
       "      <td>5.00</td>\n",
       "      <td>645.00</td>\n",
       "      <td>29419.00</td>\n",
       "      <td>1.00</td>\n",
       "      <td>5313.00</td>\n",
       "      <td>2228.00</td>\n",
       "      <td>1917.00</td>\n",
       "      <td>496.00</td>\n",
       "    </tr>\n",
       "  </tbody>\n",
       "</table>\n",
       "</div>"
      ],
      "text/plain": [
       "          rating      votes       revl       feel   nr_words     swords  \\\n",
       "count  370720.00  370720.00  370720.00  370720.00  370720.00  370720.00   \n",
       "mean        3.87       1.50     212.06       0.74      39.58      15.83   \n",
       "std         1.60       9.17     458.89       0.44      84.37      35.19   \n",
       "min         1.00       0.00       1.00       0.00       1.00       0.00   \n",
       "25%         2.00       0.00      26.00       0.00       5.00       1.00   \n",
       "50%         5.00       0.00      89.00       1.00      17.00       6.00   \n",
       "75%         5.00       1.00     217.00       1.00      41.00      17.00   \n",
       "max         5.00     645.00   29419.00       1.00    5313.00    2228.00   \n",
       "\n",
       "       nr_special   nr_upper  \n",
       "count   370720.00  370720.00  \n",
       "mean         6.60       2.13  \n",
       "std         19.23       6.35  \n",
       "min          0.00       0.00  \n",
       "25%          0.00       0.00  \n",
       "50%          2.00       0.00  \n",
       "75%          6.00       2.00  \n",
       "max       1917.00     496.00  "
      ]
     },
     "execution_count": 56,
     "metadata": {},
     "output_type": "execute_result"
    }
   ],
   "source": [
    "## create a copy of the dataset\n",
    "mobile_clean=mobile.copy()\n",
    "\n",
    "## drop columns 'name', 'brand' and 'price'\n",
    "mobile_clean = mobile_clean.drop(['name', 'brand', 'price'], axis=1)\n",
    "\n",
    "## create a column that gives the number of words in review\n",
    "mobile_clean['nr_words'] = mobile_clean['review'].apply(lambda x: len(str(x).split(' ')))\n",
    "\n",
    "## find number of stopwords per review and record it in 'swords'\n",
    "mobile_clean['swords'] = mobile_clean['review'].apply(lambda x: len([x for x in x.split() if x in stop]))\n",
    "\n",
    "## record the numbers of special characters in a column 'nr_special'\n",
    "mobile_clean['nr_special'] = mobile_clean['review'].apply(lambda x: len(x) - len(re.sub(\"[^a-zA-Z]+\",\" \", x)))\n",
    "\n",
    "## create a new column 'nr_upper' to record the number of words written in uppercase\n",
    "mobile_clean['nr_upper'] = mobile_clean.review.apply(lambda x: len([x for x in x.split() if x.isupper()]))\n",
    "\n",
    "## descriptive statistics of the data\n",
    "round(mobile_clean.describe(), 2)"
   ]
  },
  {
   "cell_type": "code",
   "execution_count": 57,
   "metadata": {
    "collapsed": true
   },
   "outputs": [],
   "source": [
    "## option to display full content of columns in the dataframes\n",
    "pd.set_option('display.max_colwidth', -1)"
   ]
  },
  {
   "cell_type": "code",
   "execution_count": 58,
   "metadata": {},
   "outputs": [
    {
     "data": {
      "text/html": [
       "<div>\n",
       "<style scoped>\n",
       "    .dataframe tbody tr th:only-of-type {\n",
       "        vertical-align: middle;\n",
       "    }\n",
       "\n",
       "    .dataframe tbody tr th {\n",
       "        vertical-align: top;\n",
       "    }\n",
       "\n",
       "    .dataframe thead th {\n",
       "        text-align: right;\n",
       "    }\n",
       "</style>\n",
       "<table border=\"1\" class=\"dataframe\">\n",
       "  <thead>\n",
       "    <tr style=\"text-align: right;\">\n",
       "      <th></th>\n",
       "      <th>rating</th>\n",
       "      <th>review</th>\n",
       "      <th>votes</th>\n",
       "      <th>revl</th>\n",
       "      <th>feel</th>\n",
       "      <th>nr_words</th>\n",
       "      <th>swords</th>\n",
       "      <th>nr_special</th>\n",
       "      <th>nr_upper</th>\n",
       "    </tr>\n",
       "  </thead>\n",
       "  <tbody>\n",
       "    <tr>\n",
       "      <th>86944</th>\n",
       "      <td>4</td>\n",
       "      <td>Compre este producto porque ya estaba recomendado por otros y ademas funcionaria ien en mi pais que es venezuela estoy aprendiendo a utilizarlo pero llego en perfecto estado no le falto nada, con su caja , el manos libre, cd y un manual de bolsillo su cable de conexion. Muchas gracias estoy complacidade haber comprado este producto.</td>\n",
       "      <td>3</td>\n",
       "      <td>334</td>\n",
       "      <td>1</td>\n",
       "      <td>57</td>\n",
       "      <td>4</td>\n",
       "      <td>5</td>\n",
       "      <td>0</td>\n",
       "    </tr>\n",
       "    <tr>\n",
       "      <th>237890</th>\n",
       "      <td>1</td>\n",
       "      <td>I tried to order the correct phone twice and both times it came in with a TMobile connection. There was a message that refused to be deleted. The ad didn't say anything about this. I am an ATT customer and the phone is advertised as being compatible.</td>\n",
       "      <td>4</td>\n",
       "      <td>250</td>\n",
       "      <td>0</td>\n",
       "      <td>47</td>\n",
       "      <td>22</td>\n",
       "      <td>3</td>\n",
       "      <td>3</td>\n",
       "    </tr>\n",
       "    <tr>\n",
       "      <th>17026</th>\n",
       "      <td>1</td>\n",
       "      <td>I am not happy with my purchase at all. The phone dies at 56% every day. I can not get the company I purchased it from to call me back!</td>\n",
       "      <td>0</td>\n",
       "      <td>135</td>\n",
       "      <td>0</td>\n",
       "      <td>30</td>\n",
       "      <td>13</td>\n",
       "      <td>6</td>\n",
       "      <td>3</td>\n",
       "    </tr>\n",
       "    <tr>\n",
       "      <th>139547</th>\n",
       "      <td>5</td>\n",
       "      <td>After 2 months I decided it was exactly what I was looking for... Well for a cheap price. My phone of three years was ready to rest for a while so I decided to look into this product because I'm a lover of photography, (but extremely poor) but this camera is incredible. Much better than the iPhone 6 and 6+! It has a long lasting battery. I listen to music up to 9 hours of my day on Google Play music and even after I get home around 6 it still has 20+ percentage left! Very happy with this phone.</td>\n",
       "      <td>0</td>\n",
       "      <td>499</td>\n",
       "      <td>1</td>\n",
       "      <td>100</td>\n",
       "      <td>39</td>\n",
       "      <td>26</td>\n",
       "      <td>5</td>\n",
       "    </tr>\n",
       "  </tbody>\n",
       "</table>\n",
       "</div>"
      ],
      "text/plain": [
       "        rating  \\\n",
       "86944   4        \n",
       "237890  1        \n",
       "17026   1        \n",
       "139547  5        \n",
       "\n",
       "                                                                                                                                                                                                                                                                                                                                                                                                                                                                                                                     review  \\\n",
       "86944   Compre este producto porque ya estaba recomendado por otros y ademas funcionaria ien en mi pais que es venezuela estoy aprendiendo a utilizarlo pero llego en perfecto estado no le falto nada, con su caja , el manos libre, cd y un manual de bolsillo su cable de conexion. Muchas gracias estoy complacidade haber comprado este producto.                                                                                                                                                                        \n",
       "237890  I tried to order the correct phone twice and both times it came in with a TMobile connection. There was a message that refused to be deleted. The ad didn't say anything about this. I am an ATT customer and the phone is advertised as being compatible.                                                                                                                                                                                                                                                            \n",
       "17026   I am not happy with my purchase at all. The phone dies at 56% every day. I can not get the company I purchased it from to call me back!                                                                                                                                                                                                                                                                                                                                                                               \n",
       "139547  After 2 months I decided it was exactly what I was looking for... Well for a cheap price. My phone of three years was ready to rest for a while so I decided to look into this product because I'm a lover of photography, (but extremely poor) but this camera is incredible. Much better than the iPhone 6 and 6+! It has a long lasting battery. I listen to music up to 9 hours of my day on Google Play music and even after I get home around 6 it still has 20+ percentage left! Very happy with this phone.   \n",
       "\n",
       "        votes  revl  feel  nr_words  swords  nr_special  nr_upper  \n",
       "86944   3      334   1     57        4       5           0         \n",
       "237890  4      250   0     47        22      3           3         \n",
       "17026   0      135   0     30        13      6           3         \n",
       "139547  0      499   1     100       39      26          5         "
      ]
     },
     "execution_count": 58,
     "metadata": {},
     "output_type": "execute_result"
    }
   ],
   "source": [
    "## preview the prepared dataset augumented with the numerical features\n",
    "mobile_clean.sample(4)"
   ]
  },
  {
   "cell_type": "code",
   "execution_count": null,
   "metadata": {
    "collapsed": true
   },
   "outputs": [],
   "source": []
  }
 ],
 "metadata": {
  "kernelspec": {
   "display_name": "Python 3",
   "language": "python",
   "name": "python3"
  },
  "language_info": {
   "codemirror_mode": {
    "name": "ipython",
    "version": 3
   },
   "file_extension": ".py",
   "mimetype": "text/x-python",
   "name": "python",
   "nbconvert_exporter": "python",
   "pygments_lexer": "ipython3",
   "version": "3.6.3"
  }
 },
 "nbformat": 4,
 "nbformat_minor": 2
}
